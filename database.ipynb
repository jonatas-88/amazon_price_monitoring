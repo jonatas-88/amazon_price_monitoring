{
 "cells": [
  {
   "cell_type": "code",
   "execution_count": 24,
   "metadata": {},
   "outputs": [],
   "source": [
    "import os\n",
    "import sqlite3\n",
    "import configparser"
   ]
  },
  {
   "cell_type": "code",
   "execution_count": 25,
   "metadata": {},
   "outputs": [],
   "source": [
    "config_file_name = 'price_monitoring.config'\n",
    "\n",
    "#IMPORT CONFIG FROM FILE .CONFIG\n",
    "#cwd = os.path.dirname(sys.argv[0]) #working on linux server or windows python script\n",
    "cwd = os.getcwd() #working on windows during python notebook execution\n",
    "cfg = configparser.ConfigParser()\n",
    "ini_config_path = os.path.join(cwd,config_file_name)\n",
    "cfg.read(ini_config_path)\n",
    "database = cfg['database_config']['database']"
   ]
  },
  {
   "cell_type": "code",
   "execution_count": 26,
   "metadata": {},
   "outputs": [],
   "source": [
    "#function to connect to the database\n",
    "def connect_to_database(dbname):\n",
    "    conn = sqlite3.connect(dbname)\n",
    "    cur = conn.cursor()\n",
    "    return conn, cur"
   ]
  },
  {
   "cell_type": "code",
   "execution_count": 27,
   "metadata": {},
   "outputs": [],
   "source": [
    "#create table if it doesn't exist\n",
    "def create_table(conn, cur,table_name,columns):\n",
    "    cur.execute(\"CREATE TABLE IF NOT EXISTS {} ({})\".format(table_name,columns))\n",
    "    conn.commit()\n",
    "    print(\"Table {} created\".format(table_name))\n",
    "    return"
   ]
  },
  {
   "cell_type": "code",
   "execution_count": 28,
   "metadata": {},
   "outputs": [],
   "source": [
    "#close connection\n",
    "def close_connection(conn):\n",
    "    conn.close()\n",
    "    print(\"Connection closed\")\n",
    "    return"
   ]
  },
  {
   "cell_type": "code",
   "execution_count": 29,
   "metadata": {},
   "outputs": [],
   "source": [
    "#insert data into table\n",
    "def insert_data(conn, cur, table_name,data):\n",
    "    cur.execute(\"INSERT INTO {} VALUES ({})\".format(table_name,data))\n",
    "    conn.commit()\n",
    "    print(\"Data inserted\")\n",
    "    return"
   ]
  },
  {
   "cell_type": "code",
   "execution_count": 32,
   "metadata": {},
   "outputs": [
    {
     "name": "stdout",
     "output_type": "stream",
     "text": [
      "Table prices created\n",
      "Data inserted\n",
      "Connection closed\n"
     ]
    }
   ],
   "source": [
    "conn, cur = connect_to_database(database)\n",
    "columns = \"price REAL, time_utc_now TEXT, image_link TEXT, link TEXT\"\n",
    "table_name = \"prices\"\n",
    "\n",
    "create_table(conn, cur,table_name,columns)\n",
    "\n",
    "data=\"2.5, '2019-01-01 00:00:00', 'https://www.google.com/', 'https://www.google.com/'\"\n",
    "insert_data(conn, cur, \"prices\",data)\n",
    "\n",
    "close_connection(conn)"
   ]
  },
  {
   "cell_type": "code",
   "execution_count": 23,
   "metadata": {},
   "outputs": [],
   "source": []
  },
  {
   "cell_type": "code",
   "execution_count": 14,
   "metadata": {},
   "outputs": [
    {
     "name": "stdout",
     "output_type": "stream",
     "text": [
      "Data inserted\n"
     ]
    }
   ],
   "source": []
  },
  {
   "cell_type": "code",
   "execution_count": 7,
   "metadata": {},
   "outputs": [
    {
     "name": "stdout",
     "output_type": "stream",
     "text": [
      "Connection closed\n"
     ]
    }
   ],
   "source": []
  },
  {
   "cell_type": "code",
   "execution_count": null,
   "metadata": {},
   "outputs": [],
   "source": []
  }
 ],
 "metadata": {
  "kernelspec": {
   "display_name": "Python 3.9.13 64-bit (windows store)",
   "language": "python",
   "name": "python3"
  },
  "language_info": {
   "codemirror_mode": {
    "name": "ipython",
    "version": 3
   },
   "file_extension": ".py",
   "mimetype": "text/x-python",
   "name": "python",
   "nbconvert_exporter": "python",
   "pygments_lexer": "ipython3",
   "version": "3.9.13"
  },
  "orig_nbformat": 4,
  "vscode": {
   "interpreter": {
    "hash": "59f0617734f8e50410e195d283de377ed9d593ae6e4eefe353054cb1dcfc1d4a"
   }
  }
 },
 "nbformat": 4,
 "nbformat_minor": 2
}
