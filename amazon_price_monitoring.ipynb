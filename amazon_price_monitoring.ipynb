{
 "cells": [
  {
   "cell_type": "code",
   "execution_count": null,
   "id": "8ee5b9e9",
   "metadata": {},
   "outputs": [],
   "source": [
    "from requests_html import HTMLSession\n",
    "#site_url = r'https://www.amazon.com.br/Fralda-Pampers-Confort-Sec-Unidades/dp/B07GXLG1KQ'\n",
    "site_url = r'https://www.amazon.com.br/Notebook-Lenovo-Ultrafino-ideapad-S145/dp/B088CFPCV7?ref_=Oct_s9_apbd_otopr_hd_bw_bHrUqLT&pf_rd_r=K6NV1K3BKPN6Y6VMWA3T&pf_rd_p=ae2a6e14-5e57-57d1-a7c7-38f2deae6a08&pf_rd_s=merchandised-search-10&pf_rd_t=BROWSE&pf_rd_i=16364755011'\n",
    "\n",
    "session = HTMLSession()\n",
    "\n",
    "r = session.get(site_url)"
   ]
  },
  {
   "cell_type": "code",
   "execution_count": null,
   "id": "5c90fc55",
   "metadata": {},
   "outputs": [],
   "source": [
    "from requests_html import AsyncHTMLSession\n",
    "asession = AsyncHTMLSession()\n",
    "\n",
    "r = await asession.get(site_url)"
   ]
  },
  {
   "cell_type": "code",
   "execution_count": null,
   "id": "df078caf",
   "metadata": {},
   "outputs": [],
   "source": [
    "price_section = r.html.find('#price', first=True)"
   ]
  },
  {
   "cell_type": "code",
   "execution_count": null,
   "id": "0358f6cb",
   "metadata": {},
   "outputs": [],
   "source": [
    "r.text"
   ]
  },
  {
   "cell_type": "code",
   "execution_count": null,
   "id": "fefd3728",
   "metadata": {},
   "outputs": [],
   "source": [
    "price = price_section.text.split('R$')[1]"
   ]
  },
  {
   "cell_type": "code",
   "execution_count": null,
   "id": "1da0d621",
   "metadata": {},
   "outputs": [],
   "source": []
  },
  {
   "cell_type": "code",
   "execution_count": 1,
   "id": "0c85e291",
   "metadata": {},
   "outputs": [],
   "source": [
    "from selenium import webdriver\n",
    "from datetime import datetime\n",
    "import re\n",
    "import pandas as pd\n",
    "import locale\n",
    "#from locale import atof, setlocale, LC_NUMERIC\n",
    "driver_path = r'C:\\Users\\jonat\\chromedriver.exe'\n",
    "#setlocale(LC_NUMERIC, 'pt_BR.UTF-8')\n",
    "locale.setlocale(locale.LC_ALL, \"Portuguese_Brazil.1252\")\n",
    "\n",
    "def get_title():\n",
    "    title = ''\n",
    "    try:\n",
    "        title_content = driver.find_element_by_css_selector('#title')\n",
    "        title = title_content.text.strip()\n",
    "    except:\n",
    "        title = ''\n",
    "    return title\n",
    "\n",
    "def get_price():\n",
    "    price = ''\n",
    "    price_content = ''\n",
    "    try:\n",
    "        price_content = driver.find_element_by_css_selector('#price')\n",
    "    except:\n",
    "        pass\n",
    "    try:\n",
    "        price = price_content.text.strip().split('\\n')[0]\n",
    "    except:\n",
    "        try:\n",
    "            price = price_content.text.strip()\n",
    "        except:\n",
    "            pass\n",
    "    try:\n",
    "        price = price.split('R$')[1]\n",
    "    except:\n",
    "        pass\n",
    "    try:\n",
    "        price = re.sub(r'[^0-9.,]', '', price)\n",
    "        price = locale.atof(price)\n",
    "    except:\n",
    "        pass\n",
    "    return price\n",
    "\n",
    "def get_price_span2():\n",
    "    price = ''\n",
    "    price_content = ''\n",
    "    try:\n",
    "        price_content = driver.find_element_by_css_selector('#a-autoid-4-announce > span.a-color-base > span')\n",
    "        price = price_content.text.strip()\n",
    "        price = price.split('R$')[1]\n",
    "        price = re.sub(r'[^0-9.,]', '', price)\n",
    "        price = locale.atof(price)\n",
    "    except:\n",
    "        price = ''\n",
    "    return price\n",
    "\n",
    "def get_price_span0():\n",
    "    price = ''\n",
    "    price_content = ''\n",
    "    try:\n",
    "        price_content = driver.find_element_by_css_selector('#a-autoid-0-announce > span.a-color-base > span')\n",
    "        price = price_content.text.strip()\n",
    "        price = price.split('R$')[1]\n",
    "        price = re.sub(r'[^0-9.,]', '', price)\n",
    "        price = locale.atof(price)\n",
    "    except:\n",
    "        price = ''\n",
    "    return price\n",
    "\n",
    "def get_price_box():\n",
    "    price_box = ''\n",
    "    try:\n",
    "        price_content_box = driver.find_element_by_css_selector('#priceInsideBuyBox_feature_div')\n",
    "        price_box = price_content_box.text\n",
    "        price_box = locale.atof(re.sub(r'[^0-9.,]', '', price_box))\n",
    "    except:\n",
    "        try:\n",
    "            price_content_box = driver.find_element_by_css_selector('#newBuyBoxPrice')\n",
    "            price_box = price_content_box.text\n",
    "            price_box = locale.atof(re.sub(r'[^0-9.,]', '', price_box))\n",
    "        except:\n",
    "            try:\n",
    "                price_content_box = driver.find_element_by_css_selector('#buyNewSection')\n",
    "                price_box = price_content_box.text\n",
    "                price_box = locale.atof(re.sub(r'[^0-9.,]', '', price_box))\n",
    "            except:\n",
    "                price_box = ''\n",
    "        \n",
    "    return price_box\n",
    "\n",
    "def get_image_link():\n",
    "    image_link = ''\n",
    "    try:\n",
    "        image_content = driver.find_element_by_css_selector('#landingImage')\n",
    "        image_link = image_content.get_attribute('src')\n",
    "    except:\n",
    "        image_link = ''\n",
    "    return image_link"
   ]
  },
  {
   "cell_type": "code",
   "execution_count": 5,
   "id": "9e606d6a",
   "metadata": {},
   "outputs": [],
   "source": [
    "#OPEN BROWSER\n",
    "driver = webdriver.Chrome(driver_path)"
   ]
  },
  {
   "cell_type": "code",
   "execution_count": 6,
   "id": "894f880d",
   "metadata": {},
   "outputs": [
    {
     "data": {
      "text/plain": [
       "[{'title': 'Notebook Lenovo Ultrafino ideapad S145 i7-1065G7, 8GB 256GB SSD Placa de Vídeo Intel® Iris Plus Windows 10 15.6\" Full HD, Prata',\n",
       "  'price': 4359.9,\n",
       "  'price_span0': '',\n",
       "  'price_span2': '',\n",
       "  'price_box': 4359.9,\n",
       "  'image_link': 'https://images-na.ssl-images-amazon.com/images/I/413V3QwQ2sL._AC_SY355_.jpg',\n",
       "  'link': 'https://www.amazon.com.br/Notebook-Lenovo-Ultrafino-ideapad-S145/dp/B08GHMC5LF?th=1'},\n",
       " {'title': 'Fraldas Pampers Confort Sec XG 58 Unidades, Pampers, Xg (Extra Grande), pacote de 58',\n",
       "  'price': 69.49,\n",
       "  'price_span0': '',\n",
       "  'price_span2': '',\n",
       "  'price_box': 69.49,\n",
       "  'image_link': 'https://images-na.ssl-images-amazon.com/images/I/81Wxj12ImZL._AC_SY355_.jpg',\n",
       "  'link': 'https://www.amazon.com.br/Fralda-Pampers-Confort-Sec-Unidades/dp/B07GXLG1KQ'},\n",
       " {'title': 'Vade Mecum 2021 Saraiva - Tradicional - 31ª Edição: inclui Mapa de Legislação Emergencial (Português) Capa dura – 5 março 2021',\n",
       "  'price': '',\n",
       "  'price_span0': '',\n",
       "  'price_span2': '',\n",
       "  'price_box': 121.09,\n",
       "  'image_link': '',\n",
       "  'link': 'https://www.amazon.com.br/dp/6555594179'},\n",
       " {'title': 'Vade Mecum Saraiva - Tradicional - 31ª Edição 2021 eBook Kindle',\n",
       "  'price': '',\n",
       "  'price_span0': 115.0,\n",
       "  'price_span2': '',\n",
       "  'price_box': '',\n",
       "  'image_link': '',\n",
       "  'link': 'https://www.amazon.com.br/dp/B08WCB5BT2'},\n",
       " {'title': 'Direito Civil Brasileiro: Parte Geral eBook Kindle',\n",
       "  'price': '',\n",
       "  'price_span0': '',\n",
       "  'price_span2': 119.6,\n",
       "  'price_box': '',\n",
       "  'image_link': '',\n",
       "  'link': 'https://www.amazon.com.br/gp/product/B08NW9SQB4'},\n",
       " {'title': 'O Jardim Secreto eBook Kindle',\n",
       "  'price': '',\n",
       "  'price_span0': '',\n",
       "  'price_span2': 0.0,\n",
       "  'price_box': '',\n",
       "  'image_link': '',\n",
       "  'link': 'https://www.amazon.com.br/dp/B00VXD1VVU'},\n",
       " {'title': 'Amor(es) verdadeiro(s) eBook Kindle',\n",
       "  'price': '',\n",
       "  'price_span0': 11.94,\n",
       "  'price_span2': '',\n",
       "  'price_box': '',\n",
       "  'image_link': '',\n",
       "  'link': 'https://www.amazon.com.br/Amor-verdadeiro-Taylor-Jenkins-Reid-ebook/dp/B087JVWH3Z/ref=gbps_img_m-6_156b_663361ed?smid=A18CNA8NWQSYHH&pf_rd_p=b1ec72c0-5790-449a-9637-30ec3510156b&pf_rd_s=merchandised-search-6&pf_rd_t=101&pf_rd_i=5475882011&pf_rd_m=A1ZZFT5FULY4LN&pf_rd_r=T7250TRKXPHWFXQKEMJ6'},\n",
       " {'title': 'Vade Mecum Saraiva - Tradicional - 31ª Edição 2021 eBook Kindle',\n",
       "  'price': '',\n",
       "  'price_span0': 115.0,\n",
       "  'price_span2': '',\n",
       "  'price_box': '',\n",
       "  'image_link': '',\n",
       "  'link': 'https://www.amazon.com.br/Vade-Mecum-Saraiva-Tradicional-Edi%C3%A7%C3%A3o-ebook/dp/B08WCB5BT2'},\n",
       " {'title': 'Fralda Pampers Confort Sec Xg 34 Unidades, Pampers',\n",
       "  'price': 39.59,\n",
       "  'price_span0': '',\n",
       "  'price_span2': '',\n",
       "  'price_box': 39.59,\n",
       "  'image_link': 'https://images-na.ssl-images-amazon.com/images/I/81R0CVVV%2BtL._AC_SY355_.jpg',\n",
       "  'link': 'https://www.amazon.com.br/dp/B07D3SPV6G/ref=cm_sw_r_wa_apa_glc_i_PEVK5T9700FJKPDGVGZ4?_encoding=UTF8&psc=1'},\n",
       " {'title': 'Desitin Máxima Duração, 57g',\n",
       "  'price': 29.48,\n",
       "  'price_span0': '',\n",
       "  'price_span2': '',\n",
       "  'price_box': 29.48,\n",
       "  'image_link': 'https://images-na.ssl-images-amazon.com/images/I/61F1om9vvoL._AC_SX425_.jpg',\n",
       "  'link': 'https://www.amazon.com.br/dp/B07QX5ZRKF/ref=cm_sw_r_cp_apa_glc_i_7HGC4ZCE6S72D3KGYPFR?_encoding=UTF8&psc=1'},\n",
       " {'title': 'Xarope 1883 de Melancia 1 litro, Vermelho Claro',\n",
       "  'price': 79.9,\n",
       "  'price_span0': '',\n",
       "  'price_span2': '',\n",
       "  'price_box': 79.9,\n",
       "  'image_link': 'https://images-na.ssl-images-amazon.com/images/I/51eZTaQjE4L._AC_SX425_.jpg',\n",
       "  'link': 'https://www.amazon.com.br/dp/B07HBBPR4Q/ref=cm_sw_r_cp_apa_glc_i_7368ZYY6DRDY4VMBRDM6?_encoding=UTF8&psc=1'},\n",
       " {'title': 'Xarope 1883 De Melão Cantaloupe 1Litro',\n",
       "  'price': 49.9,\n",
       "  'price_span0': '',\n",
       "  'price_span2': '',\n",
       "  'price_box': 49.9,\n",
       "  'image_link': 'https://images-na.ssl-images-amazon.com/images/I/41r8eHCIBaL._AC_SX425_.jpg',\n",
       "  'link': 'https://www.amazon.com.br/dp/B07HBDW8HN/ref=cm_sw_r_cp_apa_glc_i_30M2AJ8TSX94CV890XYK?_encoding=UTF8&psc=1'},\n",
       " {'title': 'Xarope Maçã Verde Monin 700Ml',\n",
       "  'price': 54.5,\n",
       "  'price_span0': '',\n",
       "  'price_span2': '',\n",
       "  'price_box': 54.5,\n",
       "  'image_link': 'https://images-na.ssl-images-amazon.com/images/I/71BgaT4SufL._AC_SY445_.jpg',\n",
       "  'link': 'https://www.amazon.com.br/dp/B0049DHBHY/ref=cm_sw_r_cp_apa_glc_i_1X1CWQJ6NHE9XAXQW4AR?_encoding=UTF8&psc=1'}]"
      ]
     },
     "execution_count": 6,
     "metadata": {},
     "output_type": "execute_result"
    }
   ],
   "source": [
    "#site_url = r'https://www.amazon.com.br/Notebook-Lenovo-Ultrafino-ideapad-S145/dp/B08GHMC5LF?th=1'\n",
    "\n",
    "url_list = [\n",
    "    r'https://www.amazon.com.br/Notebook-Lenovo-Ultrafino-ideapad-S145/dp/B08GHMC5LF?th=1',\n",
    "    r'https://www.amazon.com.br/Fralda-Pampers-Confort-Sec-Unidades/dp/B07GXLG1KQ',\n",
    "    r'https://www.amazon.com.br/dp/6555594179',\n",
    "    r'https://www.amazon.com.br/dp/B08WCB5BT2',\n",
    "    r'https://www.amazon.com.br/gp/product/B08NW9SQB4',\n",
    "    r'https://www.amazon.com.br/dp/B00VXD1VVU',\n",
    "    r'https://www.amazon.com.br/Amor-verdadeiro-Taylor-Jenkins-Reid-ebook/dp/B087JVWH3Z/ref=gbps_img_m-6_156b_663361ed?smid=A18CNA8NWQSYHH&pf_rd_p=b1ec72c0-5790-449a-9637-30ec3510156b&pf_rd_s=merchandised-search-6&pf_rd_t=101&pf_rd_i=5475882011&pf_rd_m=A1ZZFT5FULY4LN&pf_rd_r=T7250TRKXPHWFXQKEMJ6',\n",
    "    r'https://www.amazon.com.br/Vade-Mecum-Saraiva-Tradicional-Edi%C3%A7%C3%A3o-ebook/dp/B08WCB5BT2',\n",
    "    r'https://www.amazon.com.br/dp/B07D3SPV6G/ref=cm_sw_r_wa_apa_glc_i_PEVK5T9700FJKPDGVGZ4?_encoding=UTF8&psc=1',\n",
    "    r'https://www.amazon.com.br/dp/B07QX5ZRKF/ref=cm_sw_r_cp_apa_glc_i_7HGC4ZCE6S72D3KGYPFR?_encoding=UTF8&psc=1',\n",
    "    r'https://www.amazon.com.br/dp/B07HBBPR4Q/ref=cm_sw_r_cp_apa_glc_i_7368ZYY6DRDY4VMBRDM6?_encoding=UTF8&psc=1',\n",
    "    r'https://www.amazon.com.br/dp/B07HBDW8HN/ref=cm_sw_r_cp_apa_glc_i_30M2AJ8TSX94CV890XYK?_encoding=UTF8&psc=1',\n",
    "    r'https://www.amazon.com.br/dp/B0049DHBHY/ref=cm_sw_r_cp_apa_glc_i_1X1CWQJ6NHE9XAXQW4AR?_encoding=UTF8&psc=1'\n",
    "]\n",
    "price_list = []\n",
    "for url in url_list:\n",
    "    driver.get(url)\n",
    "    act_dict = {\n",
    "        'title' : get_title(),\n",
    "        'price' : get_price(),\n",
    "        'price_span0' : get_price_span0(),\n",
    "        'price_span2' : get_price_span2(),\n",
    "        'price_box' : get_price_box(),\n",
    "        'image_link' : get_image_link(),\n",
    "        'link' : url\n",
    "        }\n",
    "    price_list.append(act_dict)\n",
    "price_list"
   ]
  },
  {
   "cell_type": "code",
   "execution_count": 4,
   "id": "27876773",
   "metadata": {},
   "outputs": [],
   "source": [
    "#QUIT BROWSER\n",
    "driver.quit()"
   ]
  },
  {
   "cell_type": "code",
   "execution_count": null,
   "id": "06f97ee8",
   "metadata": {},
   "outputs": [],
   "source": [
    "price_list"
   ]
  },
  {
   "cell_type": "code",
   "execution_count": 8,
   "id": "666487b4",
   "metadata": {},
   "outputs": [],
   "source": []
  },
  {
   "cell_type": "code",
   "execution_count": 9,
   "id": "4a7c4f17",
   "metadata": {},
   "outputs": [],
   "source": []
  },
  {
   "cell_type": "code",
   "execution_count": 10,
   "id": "879f393d",
   "metadata": {},
   "outputs": [
    {
     "data": {
      "text/plain": [
       "'https://images-na.ssl-images-amazon.com/images/I/413V3QwQ2sL._AC_SY355_.jpg'"
      ]
     },
     "execution_count": 10,
     "metadata": {},
     "output_type": "execute_result"
    }
   ],
   "source": [
    "get_image_link()"
   ]
  },
  {
   "cell_type": "code",
   "execution_count": 11,
   "id": "9f9f6d63",
   "metadata": {},
   "outputs": [
    {
     "data": {
      "text/plain": [
       "'Notebook Lenovo Ultrafino ideapad S145 i7-1065G7, 8GB 256GB SSD Placa de Vídeo Intel® Iris Plus Windows 10 15.6\" Full HD, Prata'"
      ]
     },
     "execution_count": 11,
     "metadata": {},
     "output_type": "execute_result"
    }
   ],
   "source": [
    "get_title()"
   ]
  },
  {
   "cell_type": "code",
   "execution_count": null,
   "id": "5d6630bd",
   "metadata": {},
   "outputs": [],
   "source": []
  }
 ],
 "metadata": {
  "interpreter": {
   "hash": "316e860a238c8892b0bc89caf8795812aa72b12f46a5ef18699767900e41eca6"
  },
  "kernelspec": {
   "display_name": "Python 3.9.7 ('base')",
   "language": "python",
   "name": "python3"
  },
  "language_info": {
   "codemirror_mode": {
    "name": "ipython",
    "version": 3
   },
   "file_extension": ".py",
   "mimetype": "text/x-python",
   "name": "python",
   "nbconvert_exporter": "python",
   "pygments_lexer": "ipython3",
   "version": "3.9.7"
  }
 },
 "nbformat": 4,
 "nbformat_minor": 5
}
