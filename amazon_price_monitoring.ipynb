{
 "cells": [
  {
   "cell_type": "code",
   "execution_count": 65,
   "id": "8ee5b9e9",
   "metadata": {},
   "outputs": [],
   "source": [
    "from requests_html import HTMLSession\n",
    "#site_url = r'https://www.amazon.com.br/Fralda-Pampers-Confort-Sec-Unidades/dp/B07GXLG1KQ'\n",
    "site_url = r'https://www.amazon.com.br/Notebook-Lenovo-Ultrafino-ideapad-S145/dp/B088CFPCV7?ref_=Oct_s9_apbd_otopr_hd_bw_bHrUqLT&pf_rd_r=K6NV1K3BKPN6Y6VMWA3T&pf_rd_p=ae2a6e14-5e57-57d1-a7c7-38f2deae6a08&pf_rd_s=merchandised-search-10&pf_rd_t=BROWSE&pf_rd_i=16364755011'\n",
    "\n",
    "session = HTMLSession()\n",
    "#headers = {'User-Agent': 'Mozilla/5.0 (Windows NT 10.0; Win64; x64) AppleWebKit/537.36 (KHTML, like Gecko) Chrome/102.0.5005.124 Safari/537.36 Edg/102.0.1245.41'}\n",
    "\n",
    "headers = { \n",
    "    \"Accept\": \"text/html,application/xhtml+xml,application/xml;q=0.9,image/avif,image/webp,image/apng,*/*;q=0.8,application/signed-exchange;v=b3;q=0.9\", \n",
    "    \"Accept-Encoding\": \"gzip, deflate, br\", \n",
    "    \"Accept-Language\": \"en-US,en;q=0.9\", \n",
    "    \"Host\": \"httpbin.org\", \n",
    "    \"Sec-Ch-Ua\": \"\\\"Chromium\\\";v=\\\"92\\\", \\\" Not A;Brand\\\";v=\\\"99\\\", \\\"Google Chrome\\\";v=\\\"92\\\"\", \n",
    "    \"Sec-Ch-Ua-Mobile\": \"?0\", \n",
    "    \"Sec-Fetch-Dest\": \"document\", \n",
    "    \"Sec-Fetch-Mode\": \"navigate\", \n",
    "    \"Sec-Fetch-Site\": \"none\", \n",
    "    \"Sec-Fetch-User\": \"?1\", \n",
    "    \"Upgrade-Insecure-Requests\": \"1\", \n",
    "    \"User-Agent\": \"Mozilla/5.0 (X11; Linux x86_64) AppleWebKit/537.36 (KHTML, like Gecko) Chrome/92.0.4515.107 Safari/537.36\", \n",
    "    \"X-Amzn-Trace-Id\": \"Root=1-60ff12bb-55defac340ac48081d670f9d\" \n",
    "} \n",
    "\n",
    "r = session.get(site_url, headers=headers)"
   ]
  },
  {
   "cell_type": "code",
   "execution_count": 66,
   "id": "5c90fc55",
   "metadata": {},
   "outputs": [],
   "source": [
    "from requests_html import AsyncHTMLSession\n",
    "asession = AsyncHTMLSession()\n",
    "\n",
    "r = await asession.get(site_url)"
   ]
  },
  {
   "cell_type": "code",
   "execution_count": 67,
   "id": "df078caf",
   "metadata": {},
   "outputs": [],
   "source": [
    "price_section = r.html.find('#price', first=True)"
   ]
  },
  {
   "cell_type": "code",
   "execution_count": 68,
   "id": "0358f6cb",
   "metadata": {},
   "outputs": [
    {
     "data": {
      "text/plain": [
       "'<!DOCTYPE html>\\n<!--[if lt IE 7]> <html lang=\"en-us\" class=\"a-no-js a-lt-ie9 a-lt-ie8 a-lt-ie7\"> <![endif]-->\\n<!--[if IE 7]>    <html lang=\"en-us\" class=\"a-no-js a-lt-ie9 a-lt-ie8\"> <![endif]-->\\n<!--[if IE 8]>    <html lang=\"en-us\" class=\"a-no-js a-lt-ie9\"> <![endif]-->\\n<!--[if gt IE 8]><!-->\\n<html class=\"a-no-js\" lang=\"pt-br\"><!--<![endif]--><head>\\n<meta http-equiv=\"content-type\" content=\"text/html; charset=UTF-8\">\\n<meta charset=\"utf-8\">\\n<meta http-equiv=\"X-UA-Compatible\" content=\"IE=edge,chrome=1\">\\n<title dir=\"ltr\">Amazon.com.br</title>\\n<meta name=\"viewport\" content=\"width=device-width\">\\n<link rel=\"stylesheet\" href=\"https://images-na.ssl-images-amazon.com/images/G/01/AUIClients/AmazonUI-3c913031596ca78a3768f4e934b1cc02ce238101.secure.min._V1_.css\">\\n<script>\\n\\nif (true === true) {\\n    var ue_t0 = (+ new Date()),\\n        ue_csm = window,\\n        ue = { t0: ue_t0, d: function() { return (+new Date() - ue_t0); } },\\n        ue_furl = \"fls-na.amazon.com\",\\n        ue_mid = \"ATVPDKIKX0DER\",\\n        ue_sid = (document.cookie.match(/session-id=([0-9-]+)/) || [])[1],\\n        ue_sn = \"opfcaptcha.amazon.com\",\\n        ue_id = \\'AMB6S2E8MTBXFRDBYK64\\';\\n}\\n</script>\\n</head>\\n<body>\\n\\n<!--\\n        To discuss automated access to Amazon data please contact api-services-support@amazon.com.\\n        For information about migrating to our APIs refer to our Marketplace APIs at https://developer.amazonservices.com/ref=rm_c_sv, or our Product Advertising API at https://affiliate-program.amazon.com/gp/advertising/api/detail/main.html/ref=rm_c_ac for advertising use cases.\\n-->\\n\\n<!--\\nCorreios.DoNotSend\\n-->\\n\\n<div class=\"a-container a-padding-double-large\" style=\"min-width:350px;padding:44px 0 !important\">\\n\\n    <div class=\"a-row a-spacing-double-large\" style=\"width: 350px; margin: 0 auto\">\\n\\n        <div class=\"a-row a-spacing-medium a-text-center\"><i class=\"a-icon a-logo\"></i></div>\\n\\n        <div class=\"a-box a-alert a-alert-info a-spacing-base\">\\n            <div class=\"a-box-inner\">\\n                <i class=\"a-icon a-icon-alert\"></i>\\n                <h4>Digite os caracteres que vocÃª vÃª abaixo</h4>\\n                <p class=\"a-last\">Desculpe pelo inconveniente. Para continuar realizando suas compras, digite as letras/nÃºmeros que vocÃª vÃª na imagem abaixo.</p>\\n                </div>\\n            </div>\\n\\n            <div class=\"a-section\">\\n\\n                <div class=\"a-box a-color-offset-background\">\\n                    <div class=\"a-box-inner a-padding-extra-large\">\\n\\n                        <form method=\"get\" action=\"/errors/validateCaptcha\" name=\"\">\\n                            <input type=hidden name=\"amzn\" value=\"yyeTErLW/+8GzUQbhyblEQ==\" /><input type=hidden name=\"amzn-r\" value=\"&#047;Fralda&#045;Pampers&#045;Confort&#045;Sec&#045;Unidades&#047;dp&#047;B07GXLG1KQ\" />\\n                            <div class=\"a-row a-spacing-large\">\\n                                <div class=\"a-box\">\\n                                    <div class=\"a-box-inner\">\\n                                        <h4>Escreva os caracteres que vocÃª vÃª nesta imagem:</h4>\\n                                        <div class=\"a-row a-text-center\">\\n                                            <img src=\"https://images-na.ssl-images-amazon.com/captcha/bcxmjlko/Captcha_htqvqdlehl.jpg\">\\n                                        </div>\\n                                        <div class=\"a-row a-spacing-base\">\\n                                            <div class=\"a-row\">\\n                                                <div class=\"a-column a-span6\">\\n                                                </div>\\n                                                <div class=\"a-column a-span6 a-span-last a-text-right\">\\n                                                    <a onclick=\"window.location.reload()\">Tentar uma imagem diferente</a>\\n                                                </div>\\n                                            </div>\\n                                            <input autocomplete=\"off\" spellcheck=\"false\" placeholder=\"Digitar caracteres\" id=\"captchacharacters\" name=\"field-keywords\" class=\"a-span12\" autocapitalize=\"off\" autocorrect=\"off\" type=\"text\">\\n                                        </div>\\n                                    </div>\\n                                </div>\\n                            </div>\\n\\n                            <div class=\"a-section a-spacing-extra-large\">\\n\\n                                <div class=\"a-row\">\\n                                    <span class=\"a-button a-button-primary a-span12\">\\n                                        <span class=\"a-button-inner\">\\n                                            <button type=\"submit\" class=\"a-button-text\">Continuar comprando</button>\\n                                        </span>\\n                                    </span>\\n                                </div>\\n\\n                            </div>\\n                        </form>\\n\\n                    </div>\\n                </div>\\n\\n            </div>\\n\\n        </div>\\n\\n        <div class=\"a-divider a-divider-section\"><div class=\"a-divider-inner\"></div></div>\\n\\n        <div class=\"a-text-center a-spacing-small a-size-mini\">\\n            <a href=\"https://www.amazon.com/gp/help/customer/display.html/ref=footer_cou?ie=UTF8&nodeId=508088\">CondiÃ§Ãµes de Uso</a>\\n            <span class=\"a-letter-space\"></span>\\n            <span class=\"a-letter-space\"></span>\\n            <span class=\"a-letter-space\"></span>\\n            <span class=\"a-letter-space\"></span>\\n            <a href=\"https://www.amazon.com/gp/help/customer/display.html/ref=footer_privacy?ie=UTF8&nodeId=468496\">PolÃ\\xadticas de Privacidade</a>\\n        </div>\\n        <div class=\"a-text-center a-size-mini a-color-secondary\">\\n          &copy; 1996<script>new Date().getFullYear()>2010&&document.write(\"-\"+new Date().getFullYear());</script>, Amazon.com, Inc. ou suas afiliadas\\n          <script>\\n           if (true === true) {\\n             document.write(\\'<img src=\"https://fls-na.amaz\\'+\\'on.com/\\'+\\'1/oc-csi/1/OP/requestId=AMB6S2E8MTBXFRDBYK64&js=1\" />\\');\\n           };\\n          </script>\\n          <noscript>\\n            <img src=\"https://fls-na.amazon.com/1/oc-csi/1/OP/requestId=AMB6S2E8MTBXFRDBYK64&js=0\" />\\n          </noscript>\\n        </div>\\n    </div>\\n    <script>\\n    if (true === true) {\\n        var head = document.getElementsByTagName(\\'head\\')[0],\\n            prefix = \"https://images-na.ssl-images-amazon.com/images/G/01/csminstrumentation/\",\\n            elem = document.createElement(\"script\");\\n        elem.src = prefix + \"csm-captcha-instrumentation.min.js\";\\n        head.appendChild(elem);\\n\\n        elem = document.createElement(\"script\");\\n        elem.src = prefix + \"rd-script-6d68177fa6061598e9509dc4b5bdd08d.js\";\\n        head.appendChild(elem);\\n    }\\n    </script>\\n</body></html>\\n'"
      ]
     },
     "execution_count": 68,
     "metadata": {},
     "output_type": "execute_result"
    }
   ],
   "source": [
    "r.text"
   ]
  },
  {
   "cell_type": "code",
   "execution_count": 69,
   "id": "fefd3728",
   "metadata": {},
   "outputs": [
    {
     "ename": "AttributeError",
     "evalue": "'NoneType' object has no attribute 'text'",
     "output_type": "error",
     "traceback": [
      "\u001b[1;31m---------------------------------------------------------------------------\u001b[0m",
      "\u001b[1;31mAttributeError\u001b[0m                            Traceback (most recent call last)",
      "\u001b[1;32md:\\Onedrive\\dev\\python\\amazon_price_monitoring\\amazon_price_monitoring.ipynb Cell 5'\u001b[0m in \u001b[0;36m<cell line: 1>\u001b[1;34m()\u001b[0m\n\u001b[1;32m----> <a href='vscode-notebook-cell:/d%3A/Onedrive/dev/python/amazon_price_monitoring/amazon_price_monitoring.ipynb#ch0000004?line=0'>1</a>\u001b[0m price \u001b[39m=\u001b[39m price_section\u001b[39m.\u001b[39;49mtext\u001b[39m.\u001b[39msplit(\u001b[39m'\u001b[39m\u001b[39mR$\u001b[39m\u001b[39m'\u001b[39m)[\u001b[39m1\u001b[39m]\n",
      "\u001b[1;31mAttributeError\u001b[0m: 'NoneType' object has no attribute 'text'"
     ]
    }
   ],
   "source": [
    "price = price_section.text.split('R$')[1]"
   ]
  },
  {
   "cell_type": "code",
   "execution_count": 70,
   "id": "1da0d621",
   "metadata": {},
   "outputs": [],
   "source": [
    "price_section"
   ]
  },
  {
   "cell_type": "code",
   "execution_count": null,
   "id": "0c85e291",
   "metadata": {},
   "outputs": [],
   "source": [
    "from selenium import webdriver\n",
    "from datetime import datetime\n",
    "import re\n",
    "import pandas as pd\n",
    "import locale\n",
    "#from locale import atof, setlocale, LC_NUMERIC\n",
    "driver_path_chrome = r'C:\\Users\\jonat\\chromedriver.exe'\n",
    "driver_path_edge = r'C:\\Users\\jonat\\msedgedriver.exe'\n",
    "#setlocale(LC_NUMERIC, 'pt_BR.UTF-8')\n",
    "locale.setlocale(locale.LC_ALL, \"Portuguese_Brazil.1252\")\n",
    "\n",
    "def get_title():\n",
    "    title = ''\n",
    "    try:\n",
    "        title_content = driver.find_element_by_css_selector('#title')\n",
    "        title = title_content.text.strip()\n",
    "    except:\n",
    "        title = ''\n",
    "    return title\n",
    "\n",
    "def get_price():\n",
    "    price = ''\n",
    "    price_content = ''\n",
    "    try:\n",
    "        price_content = driver.find_element_by_css_selector('#price')\n",
    "    except:\n",
    "        pass\n",
    "    try:\n",
    "        price = price_content.text.strip().split('\\n')[0]\n",
    "    except:\n",
    "        try:\n",
    "            price = price_content.text.strip()\n",
    "        except:\n",
    "            pass\n",
    "    try:\n",
    "        price = price.split('R$')[1]\n",
    "    except:\n",
    "        pass\n",
    "    try:\n",
    "        price = re.sub(r'[^0-9.,]', '', price)\n",
    "        price = locale.atof(price)\n",
    "    except:\n",
    "        pass\n",
    "    return price\n",
    "\n",
    "def get_price_span2():\n",
    "    price = ''\n",
    "    price_content = ''\n",
    "    try:\n",
    "        price_content = driver.find_element_by_css_selector('#a-autoid-4-announce > span.a-color-base > span')\n",
    "        price = price_content.text.strip()\n",
    "        price = price.split('R$')[1]\n",
    "        price = re.sub(r'[^0-9.,]', '', price)\n",
    "        price = locale.atof(price)\n",
    "    except:\n",
    "        price = ''\n",
    "    return price\n",
    "\n",
    "def get_price_span0():\n",
    "    price = ''\n",
    "    price_content = ''\n",
    "    try:\n",
    "        price_content = driver.find_element_by_css_selector('#a-autoid-0-announce > span.a-color-base > span')\n",
    "        price = price_content.text.strip()\n",
    "        price = price.split('R$')[1]\n",
    "        price = re.sub(r'[^0-9.,]', '', price)\n",
    "        price = locale.atof(price)\n",
    "    except:\n",
    "        price = ''\n",
    "    return price\n",
    "\n",
    "def get_price_box():\n",
    "    price_box = ''\n",
    "    try:\n",
    "        price_content_box = driver.find_element_by_css_selector('#priceInsideBuyBox_feature_div')\n",
    "        price_box = price_content_box.text\n",
    "        price_box = locale.atof(re.sub(r'[^0-9.,]', '', price_box))\n",
    "    except:\n",
    "        try:\n",
    "            price_content_box = driver.find_element_by_css_selector('#newBuyBoxPrice')\n",
    "            price_box = price_content_box.text\n",
    "            price_box = locale.atof(re.sub(r'[^0-9.,]', '', price_box))\n",
    "        except:\n",
    "            try:\n",
    "                price_content_box = driver.find_element_by_css_selector('#buyNewSection')\n",
    "                price_box = price_content_box.text\n",
    "                price_box = locale.atof(re.sub(r'[^0-9.,]', '', price_box))\n",
    "            except:\n",
    "                price_box = ''\n",
    "        \n",
    "    return price_box\n",
    "\n",
    "def get_image_link():\n",
    "    image_link = ''\n",
    "    try:\n",
    "        image_content = driver.find_element_by_css_selector('#landingImage')\n",
    "        image_link = image_content.get_attribute('src')\n",
    "    except:\n",
    "        image_link = ''\n",
    "    return image_link"
   ]
  },
  {
   "cell_type": "code",
   "execution_count": null,
   "id": "9e606d6a",
   "metadata": {},
   "outputs": [],
   "source": [
    "#OPEN BROWSER\n",
    "#driver = webdriver.Chrome(driver_path_chrome)\n",
    "driver = webdriver.Edge(driver_path_edge)"
   ]
  },
  {
   "cell_type": "code",
   "execution_count": null,
   "id": "894f880d",
   "metadata": {},
   "outputs": [],
   "source": [
    "#site_url = r'https://www.amazon.com.br/Notebook-Lenovo-Ultrafino-ideapad-S145/dp/B08GHMC5LF?th=1'\n",
    "\n",
    "url_list = [\n",
    "    r'https://www.amazon.com.br/Notebook-Lenovo-Ultrafino-ideapad-S145/dp/B08GHMC5LF?th=1',\n",
    "    r'https://www.amazon.com.br/Fralda-Pampers-Confort-Sec-Unidades/dp/B07GXLG1KQ',\n",
    "    r'https://www.amazon.com.br/dp/6555594179',\n",
    "    r'https://www.amazon.com.br/dp/B08WCB5BT2',\n",
    "    r'https://www.amazon.com.br/gp/product/B08NW9SQB4',\n",
    "    r'https://www.amazon.com.br/dp/B00VXD1VVU',\n",
    "    r'https://www.amazon.com.br/Amor-verdadeiro-Taylor-Jenkins-Reid-ebook/dp/B087JVWH3Z/ref=gbps_img_m-6_156b_663361ed?smid=A18CNA8NWQSYHH&pf_rd_p=b1ec72c0-5790-449a-9637-30ec3510156b&pf_rd_s=merchandised-search-6&pf_rd_t=101&pf_rd_i=5475882011&pf_rd_m=A1ZZFT5FULY4LN&pf_rd_r=T7250TRKXPHWFXQKEMJ6',\n",
    "    r'https://www.amazon.com.br/Vade-Mecum-Saraiva-Tradicional-Edi%C3%A7%C3%A3o-ebook/dp/B08WCB5BT2',\n",
    "    r'https://www.amazon.com.br/dp/B07D3SPV6G/ref=cm_sw_r_wa_apa_glc_i_PEVK5T9700FJKPDGVGZ4?_encoding=UTF8&psc=1',\n",
    "    r'https://www.amazon.com.br/dp/B07QX5ZRKF/ref=cm_sw_r_cp_apa_glc_i_7HGC4ZCE6S72D3KGYPFR?_encoding=UTF8&psc=1',\n",
    "    r'https://www.amazon.com.br/dp/B07HBBPR4Q/ref=cm_sw_r_cp_apa_glc_i_7368ZYY6DRDY4VMBRDM6?_encoding=UTF8&psc=1',\n",
    "    r'https://www.amazon.com.br/dp/B07HBDW8HN/ref=cm_sw_r_cp_apa_glc_i_30M2AJ8TSX94CV890XYK?_encoding=UTF8&psc=1',\n",
    "    r'https://www.amazon.com.br/dp/B0049DHBHY/ref=cm_sw_r_cp_apa_glc_i_1X1CWQJ6NHE9XAXQW4AR?_encoding=UTF8&psc=1'\n",
    "]\n",
    "price_list = []\n",
    "for url in url_list:\n",
    "    driver.get(url)\n",
    "    act_dict = {\n",
    "        'title' : get_title(),\n",
    "        'price' : get_price(),\n",
    "        'price_span0' : get_price_span0(),\n",
    "        'price_span2' : get_price_span2(),\n",
    "        'price_box' : get_price_box(),\n",
    "        'image_link' : get_image_link(),\n",
    "        'link' : url\n",
    "        }\n",
    "    price_list.append(act_dict)\n",
    "price_list"
   ]
  },
  {
   "cell_type": "code",
   "execution_count": null,
   "id": "27876773",
   "metadata": {},
   "outputs": [],
   "source": [
    "#QUIT BROWSER\n",
    "driver.quit()"
   ]
  },
  {
   "cell_type": "code",
   "execution_count": null,
   "id": "06f97ee8",
   "metadata": {},
   "outputs": [],
   "source": [
    "price_list"
   ]
  },
  {
   "cell_type": "code",
   "execution_count": null,
   "id": "666487b4",
   "metadata": {},
   "outputs": [],
   "source": []
  },
  {
   "cell_type": "code",
   "execution_count": null,
   "id": "4a7c4f17",
   "metadata": {},
   "outputs": [],
   "source": []
  },
  {
   "cell_type": "code",
   "execution_count": null,
   "id": "879f393d",
   "metadata": {},
   "outputs": [],
   "source": [
    "get_image_link()"
   ]
  },
  {
   "cell_type": "code",
   "execution_count": null,
   "id": "9f9f6d63",
   "metadata": {},
   "outputs": [],
   "source": [
    "get_title()"
   ]
  },
  {
   "cell_type": "code",
   "execution_count": null,
   "id": "5d6630bd",
   "metadata": {},
   "outputs": [],
   "source": []
  }
 ],
 "metadata": {
  "kernelspec": {
   "display_name": "Python 3.9.7 64-bit",
   "language": "python",
   "name": "python3"
  },
  "language_info": {
   "codemirror_mode": {
    "name": "ipython",
    "version": 3
   },
   "file_extension": ".py",
   "mimetype": "text/x-python",
   "name": "python",
   "nbconvert_exporter": "python",
   "pygments_lexer": "ipython3",
   "version": "3.9.12"
  },
  "vscode": {
   "interpreter": {
    "hash": "316e860a238c8892b0bc89caf8795812aa72b12f46a5ef18699767900e41eca6"
   }
  }
 },
 "nbformat": 4,
 "nbformat_minor": 5
}
