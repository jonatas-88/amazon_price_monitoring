{
 "cells": [
  {
   "cell_type": "code",
   "execution_count": null,
   "id": "8ee5b9e9",
   "metadata": {},
   "outputs": [],
   "source": [
    "from requests_html import HTMLSession\n",
    "#site_url = r'https://www.amazon.com.br/Fralda-Pampers-Confort-Sec-Unidades/dp/B07GXLG1KQ'\n",
    "#site_url = r'https://www.amazon.com.br/Notebook-Lenovo-Ultrafino-ideapad-S145/dp/B088CFPCV7?ref_=Oct_s9_apbd_otopr_hd_bw_bHrUqLT&pf_rd_r=K6NV1K3BKPN6Y6VMWA3T&pf_rd_p=ae2a6e14-5e57-57d1-a7c7-38f2deae6a08&pf_rd_s=merchandised-search-10&pf_rd_t=BROWSE&pf_rd_i=16364755011'\n",
    "site_url = r'https://www.coupang.com/vp/products/6366671555?isAddedCart='\n",
    "\n",
    "session = HTMLSession()\n",
    "#headers = {'User-Agent': 'Mozilla/5.0 (Windows NT 10.0; Win64; x64) AppleWebKit/537.36 (KHTML, like Gecko) Chrome/102.0.5005.124 Safari/537.36 Edg/102.0.1245.41'}\n",
    "\n",
    "headers = { \n",
    "    \"Accept\": \"text/html,application/xhtml+xml,application/xml;q=0.9,image/avif,image/webp,image/apng,*/*;q=0.8,application/signed-exchange;v=b3;q=0.9\", \n",
    "    \"Accept-Encoding\": \"gzip, deflate, br\", \n",
    "    \"Accept-Language\": \"en-US,en;q=0.9\", \n",
    "    \"Host\": \"httpbin.org\", \n",
    "    \"Sec-Ch-Ua\": \"\\\"Chromium\\\";v=\\\"92\\\", \\\" Not A;Brand\\\";v=\\\"99\\\", \\\"Google Chrome\\\";v=\\\"92\\\"\", \n",
    "    \"Sec-Ch-Ua-Mobile\": \"?0\", \n",
    "    \"Sec-Fetch-Dest\": \"document\", \n",
    "    \"Sec-Fetch-Mode\": \"navigate\", \n",
    "    \"Sec-Fetch-Site\": \"none\", \n",
    "    \"Sec-Fetch-User\": \"?1\", \n",
    "    \"Upgrade-Insecure-Requests\": \"1\", \n",
    "    \"User-Agent\": \"Mozilla/5.0 (X11; Linux x86_64) AppleWebKit/537.36 (KHTML, like Gecko) Chrome/92.0.4515.107 Safari/537.36\", \n",
    "    \"X-Amzn-Trace-Id\": \"Root=1-60ff12bb-55defac340ac48081d670f9d\" \n",
    "} \n",
    "\n",
    "r = session.get(site_url, headers=headers)"
   ]
  },
  {
   "cell_type": "code",
   "execution_count": null,
   "id": "5c90fc55",
   "metadata": {},
   "outputs": [],
   "source": [
    "from requests_html import AsyncHTMLSession\n",
    "asession = AsyncHTMLSession()\n",
    "\n",
    "r = await asession.get(site_url)"
   ]
  },
  {
   "cell_type": "code",
   "execution_count": null,
   "id": "3985461d",
   "metadata": {},
   "outputs": [],
   "source": [
    "r.html.absolute_links"
   ]
  },
  {
   "cell_type": "code",
   "execution_count": null,
   "id": "0358f6cb",
   "metadata": {},
   "outputs": [],
   "source": [
    "r.text"
   ]
  },
  {
   "cell_type": "code",
   "execution_count": null,
   "id": "828d881f",
   "metadata": {},
   "outputs": [],
   "source": [
    "r.html.find('span', containing='total-price')"
   ]
  },
  {
   "cell_type": "code",
   "execution_count": null,
   "id": "84c21061",
   "metadata": {},
   "outputs": [],
   "source": [
    "#aqui funcionou\n",
    "total_price = r.html.xpath('/html/body/div[2]/section/div[1]/div/div[3]/div[5]/div[1]/div/div[2]/span[1]/strong/text()')\n",
    "total_price"
   ]
  },
  {
   "cell_type": "code",
   "execution_count": null,
   "id": "9d2b7964",
   "metadata": {},
   "outputs": [],
   "source": [
    "print(r.html.xpath(\"//div[@id='menu']\", first=True).text)\n",
    "print(r.html.xpath(\"//div[@id='menu']/a\"))\n",
    "print(r.html.xpath(\"//div[@class='content']/span/text()\"))"
   ]
  },
  {
   "cell_type": "code",
   "execution_count": null,
   "id": "c9379a0d",
   "metadata": {},
   "outputs": [],
   "source": [
    "r.html.find(\"#total-price\", first=True)"
   ]
  },
  {
   "cell_type": "code",
   "execution_count": null,
   "id": "fefd3728",
   "metadata": {},
   "outputs": [],
   "source": [
    "price = price_section.text.split('R$')[1]"
   ]
  },
  {
   "cell_type": "code",
   "execution_count": null,
   "id": "1da0d621",
   "metadata": {},
   "outputs": [],
   "source": [
    "price_section"
   ]
  },
  {
   "cell_type": "code",
   "execution_count": null,
   "id": "0c85e291",
   "metadata": {},
   "outputs": [],
   "source": [
    "from selenium import webdriver\n",
    "from datetime import datetime\n",
    "import re\n",
    "import pandas as pd\n",
    "import locale\n",
    "#from locale import atof, setlocale, LC_NUMERIC\n",
    "driver_path_chrome = r'C:\\Users\\jonat\\chromedriver.exe'\n",
    "driver_path_edge = r'C:\\Users\\jonat\\msedgedriver.exe'\n",
    "#setlocale(LC_NUMERIC, 'pt_BR.UTF-8')\n",
    "locale.setlocale(locale.LC_ALL, \"Portuguese_Brazil.1252\")\n",
    "\n",
    "def get_title():\n",
    "    title = ''\n",
    "    try:\n",
    "        title_content = driver.find_element_by_css_selector('#title')\n",
    "        title = title_content.text.strip()\n",
    "    except:\n",
    "        title = ''\n",
    "    return title\n",
    "\n",
    "def get_price():\n",
    "    price = ''\n",
    "    price_content = ''\n",
    "    try:\n",
    "        price_content = driver.find_element_by_css_selector('#price')\n",
    "    except:\n",
    "        pass\n",
    "    try:\n",
    "        price = price_content.text.strip().split('\\n')[0]\n",
    "    except:\n",
    "        try:\n",
    "            price = price_content.text.strip()\n",
    "        except:\n",
    "            pass\n",
    "    try:\n",
    "        price = price.split('R$')[1]\n",
    "    except:\n",
    "        pass\n",
    "    try:\n",
    "        price = re.sub(r'[^0-9.,]', '', price)\n",
    "        price = locale.atof(price)\n",
    "    except:\n",
    "        pass\n",
    "    return price\n",
    "\n",
    "def get_price_span2():\n",
    "    price = ''\n",
    "    price_content = ''\n",
    "    try:\n",
    "        price_content = driver.find_element_by_css_selector('#a-autoid-4-announce > span.a-color-base > span')\n",
    "        price = price_content.text.strip()\n",
    "        price = price.split('R$')[1]\n",
    "        price = re.sub(r'[^0-9.,]', '', price)\n",
    "        price = locale.atof(price)\n",
    "    except:\n",
    "        price = ''\n",
    "    return price\n",
    "\n",
    "def get_price_span0():\n",
    "    price = ''\n",
    "    price_content = ''\n",
    "    try:\n",
    "        price_content = driver.find_element_by_css_selector('#a-autoid-0-announce > span.a-color-base > span')\n",
    "        price = price_content.text.strip()\n",
    "        price = price.split('R$')[1]\n",
    "        price = re.sub(r'[^0-9.,]', '', price)\n",
    "        price = locale.atof(price)\n",
    "    except:\n",
    "        price = ''\n",
    "    return price\n",
    "\n",
    "def get_price_box():\n",
    "    price_box = ''\n",
    "    try:\n",
    "        price_content_box = driver.find_element_by_css_selector('#priceInsideBuyBox_feature_div')\n",
    "        price_box = price_content_box.text\n",
    "        price_box = locale.atof(re.sub(r'[^0-9.,]', '', price_box))\n",
    "    except:\n",
    "        try:\n",
    "            price_content_box = driver.find_element_by_css_selector('#newBuyBoxPrice')\n",
    "            price_box = price_content_box.text\n",
    "            price_box = locale.atof(re.sub(r'[^0-9.,]', '', price_box))\n",
    "        except:\n",
    "            try:\n",
    "                price_content_box = driver.find_element_by_css_selector('#buyNewSection')\n",
    "                price_box = price_content_box.text\n",
    "                price_box = locale.atof(re.sub(r'[^0-9.,]', '', price_box))\n",
    "            except:\n",
    "                price_box = ''\n",
    "        \n",
    "    return price_box\n",
    "\n",
    "def get_image_link():\n",
    "    image_link = ''\n",
    "    try:\n",
    "        image_content = driver.find_element_by_css_selector('#landingImage')\n",
    "        image_link = image_content.get_attribute('src')\n",
    "    except:\n",
    "        image_link = ''\n",
    "    return image_link"
   ]
  },
  {
   "cell_type": "code",
   "execution_count": null,
   "id": "9e606d6a",
   "metadata": {},
   "outputs": [],
   "source": [
    "#OPEN BROWSER\n",
    "#driver = webdriver.Chrome(driver_path_chrome)\n",
    "driver = webdriver.Edge(driver_path_edge)"
   ]
  },
  {
   "cell_type": "code",
   "execution_count": null,
   "id": "894f880d",
   "metadata": {},
   "outputs": [],
   "source": [
    "#site_url = r'https://www.amazon.com.br/Notebook-Lenovo-Ultrafino-ideapad-S145/dp/B08GHMC5LF?th=1'\n",
    "\n",
    "url_list = [\n",
    "    r'https://www.amazon.com.br/Notebook-Lenovo-Ultrafino-ideapad-S145/dp/B08GHMC5LF?th=1',\n",
    "    r'https://www.amazon.com.br/Fralda-Pampers-Confort-Sec-Unidades/dp/B07GXLG1KQ/',\n",
    "    r'https://www.amazon.com.br/dp/6555594179',\n",
    "    r'https://www.amazon.com.br/dp/B08WCB5BT2',\n",
    "    r'https://www.amazon.com.br/gp/product/B08NW9SQB4',\n",
    "    r'https://www.amazon.com.br/dp/B00VXD1VVU',\n",
    "    r'https://www.amazon.com.br/Amor-verdadeiro-Taylor-Jenkins-Reid-ebook/dp/B087JVWH3Z/ref=gbps_img_m-6_156b_663361ed?smid=A18CNA8NWQSYHH&pf_rd_p=b1ec72c0-5790-449a-9637-30ec3510156b&pf_rd_s=merchandised-search-6&pf_rd_t=101&pf_rd_i=5475882011&pf_rd_m=A1ZZFT5FULY4LN&pf_rd_r=T7250TRKXPHWFXQKEMJ6',\n",
    "    r'https://www.amazon.com.br/Vade-Mecum-Saraiva-Tradicional-Edi%C3%A7%C3%A3o-ebook/dp/B08WCB5BT2',\n",
    "    r'https://www.amazon.com.br/dp/B07D3SPV6G/ref=cm_sw_r_wa_apa_glc_i_PEVK5T9700FJKPDGVGZ4?_encoding=UTF8&psc=1',\n",
    "    r'https://www.amazon.com.br/dp/B07QX5ZRKF/ref=cm_sw_r_cp_apa_glc_i_7HGC4ZCE6S72D3KGYPFR?_encoding=UTF8&psc=1',\n",
    "    r'https://www.amazon.com.br/dp/B07HBBPR4Q/ref=cm_sw_r_cp_apa_glc_i_7368ZYY6DRDY4VMBRDM6?_encoding=UTF8&psc=1',\n",
    "    r'https://www.amazon.com.br/dp/B07HBDW8HN/ref=cm_sw_r_cp_apa_glc_i_30M2AJ8TSX94CV890XYK?_encoding=UTF8&psc=1',\n",
    "    r'https://www.amazon.com.br/dp/B0049DHBHY/ref=cm_sw_r_cp_apa_glc_i_1X1CWQJ6NHE9XAXQW4AR?_encoding=UTF8&psc=1'\n",
    "]\n",
    "price_list = []\n",
    "for url in url_list:\n",
    "    driver.get(url)\n",
    "    act_dict = {\n",
    "        'title' : get_title(),\n",
    "        'price' : get_price(),\n",
    "        'price_span0' : get_price_span0(),\n",
    "        'price_span2' : get_price_span2(),\n",
    "        'price_box' : get_price_box(),\n",
    "        'image_link' : get_image_link(),\n",
    "        'link' : url\n",
    "        }\n",
    "    price_list.append(act_dict)\n",
    "price_list"
   ]
  },
  {
   "cell_type": "code",
   "execution_count": null,
   "id": "27876773",
   "metadata": {},
   "outputs": [],
   "source": [
    "#QUIT BROWSER\n",
    "driver.quit()"
   ]
  },
  {
   "cell_type": "code",
   "execution_count": null,
   "id": "06f97ee8",
   "metadata": {},
   "outputs": [],
   "source": [
    "price_list"
   ]
  },
  {
   "cell_type": "code",
   "execution_count": null,
   "id": "666487b4",
   "metadata": {},
   "outputs": [],
   "source": []
  },
  {
   "cell_type": "code",
   "execution_count": null,
   "id": "4a7c4f17",
   "metadata": {},
   "outputs": [],
   "source": []
  },
  {
   "cell_type": "code",
   "execution_count": null,
   "id": "879f393d",
   "metadata": {},
   "outputs": [],
   "source": [
    "get_image_link()"
   ]
  },
  {
   "cell_type": "code",
   "execution_count": null,
   "id": "9f9f6d63",
   "metadata": {},
   "outputs": [],
   "source": [
    "get_title()"
   ]
  },
  {
   "cell_type": "code",
   "execution_count": null,
   "id": "5d6630bd",
   "metadata": {},
   "outputs": [],
   "source": []
  }
 ],
 "metadata": {
  "kernelspec": {
   "display_name": "Python 3.9.7 64-bit",
   "language": "python",
   "name": "python3"
  },
  "language_info": {
   "codemirror_mode": {
    "name": "ipython",
    "version": 3
   },
   "file_extension": ".py",
   "mimetype": "text/x-python",
   "name": "python",
   "nbconvert_exporter": "python",
   "pygments_lexer": "ipython3",
   "version": "3.9.12"
  },
  "vscode": {
   "interpreter": {
    "hash": "316e860a238c8892b0bc89caf8795812aa72b12f46a5ef18699767900e41eca6"
   }
  }
 },
 "nbformat": 4,
 "nbformat_minor": 5
}
