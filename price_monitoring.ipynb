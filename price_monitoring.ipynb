{
 "cells": [
  {
   "cell_type": "code",
   "execution_count": null,
   "metadata": {},
   "outputs": [],
   "source": []
  },
  {
   "cell_type": "code",
   "execution_count": 21,
   "metadata": {},
   "outputs": [
    {
     "data": {
      "text/plain": [
       "'ko_KR.UTF-8'"
      ]
     },
     "execution_count": 21,
     "metadata": {},
     "output_type": "execute_result"
    }
   ],
   "source": [
    "from selenium import webdriver\n",
    "from datetime import datetime\n",
    "from time import sleep\n",
    "import configparser\n",
    "import os\n",
    "import sys\n",
    "#import re\n",
    "#import pandas as pd\n",
    "import locale\n",
    "#driver_path_chrome = r'C:\\Users\\jonat\\chromedriver.exe'\n",
    "#driver_path_edge = r'C:\\Users\\jonat\\msedgedriver.exe'\n",
    "locale.setlocale(locale.LC_ALL, \"ko_KR.UTF-8\")\n"
   ]
  },
  {
   "cell_type": "code",
   "execution_count": 22,
   "metadata": {},
   "outputs": [],
   "source": [
    "config_file_name = 'price_monitoring.config'\n",
    "\n",
    "#IMPORT CONFIG FROM FILE .CONFIG\n",
    "#cwd = os.path.dirname(sys.argv[0]) #working on linux server or windows python script\n",
    "cwd = os.getcwd() #working on windows during python notebook execution\n",
    "cfg = configparser.ConfigParser()\n",
    "ini_config_path = os.path.join(cwd,config_file_name)\n",
    "cfg.read(ini_config_path)\n",
    "driver_path_chrome = cfg['general_config']['driver_path_chrome']\n",
    "driver_path_edge = cfg['general_config']['driver_path_edge']\n"
   ]
  },
  {
   "cell_type": "code",
   "execution_count": 23,
   "metadata": {},
   "outputs": [],
   "source": [
    "def get_price():\n",
    "    xpath_price = '/html/body/div[2]/section/div[1]/div/div[3]/div[5]/div[1]/div/div[2]/span[1]/strong'\n",
    "    price_content = driver.find_element_by_xpath(xpath_price).text\n",
    "    try:\n",
    "        price_content = price_content.replace('원', '')\n",
    "    except:\n",
    "        price_content = price_content\n",
    "    price = locale.atof(price_content)\n",
    "    return price"
   ]
  },
  {
   "cell_type": "code",
   "execution_count": 24,
   "metadata": {},
   "outputs": [],
   "source": [
    "def get_image():\n",
    "    xpath_image = '/html/body/div[2]/section/div[1]/div/div[1]/div[1]/img'\n",
    "    image_content = driver.find_element_by_xpath(xpath_image).get_attribute('src')\n",
    "    return image_content"
   ]
  },
  {
   "cell_type": "code",
   "execution_count": 25,
   "metadata": {},
   "outputs": [
    {
     "data": {
      "text/plain": [
       "[{'price': 69900.0,\n",
       "  'time_utc_now': '20220709072625',\n",
       "  'image_link': 'https://thumbnail7.coupangcdn.com/thumbnails/remote/492x492ex/image/vendor_inventory/d6e2/022a1986626056c183a71149d2306a170c7f6b98e56ea7c791a1b4b56405.jpg',\n",
       "  'link': 'https://www.coupang.com/vp/products/6366671555?isAddedCart='},\n",
       " {'price': 296700.0,\n",
       "  'time_utc_now': '20220709072635',\n",
       "  'image_link': 'https://thumbnail6.coupangcdn.com/thumbnails/remote/492x492ex/image/rs_quotation_api/if3zrexz/ce09abc068c243e39f3c71ebcdd03bb8.jpg',\n",
       "  'link': 'https://www.coupang.com/vp/products/5056493492?isAddedCart='},\n",
       " {'price': 399000.0,\n",
       "  'time_utc_now': '20220709072647',\n",
       "  'image_link': 'https://thumbnail10.coupangcdn.com/thumbnails/remote/492x492ex/image/vendor_inventory/8210/3280c89ac6a383324216a0fbf8b7f56dbf65b27d38a0b64bcf99b41f8549.jpg',\n",
       "  'link': 'https://www.coupang.com/vp/products/4978269600?isAddedCart='}]"
      ]
     },
     "execution_count": 25,
     "metadata": {},
     "output_type": "execute_result"
    }
   ],
   "source": [
    "url_list = [\n",
    "    r'https://www.coupang.com/vp/products/6366671555?isAddedCart=',\n",
    "    r'https://www.coupang.com/vp/products/5056493492?isAddedCart=',\n",
    "    r'https://www.coupang.com/vp/products/4978269600?isAddedCart='\n",
    "]\n",
    "price_list = []\n",
    "for url in url_list:\n",
    "    driver = webdriver.Edge(driver_path_edge)\n",
    "    driver.get(url)\n",
    "    act_dict = {\n",
    "        #'title' : get_title(),\n",
    "        'price' : get_price(),\n",
    "        'time_utc_now' : datetime.utcnow().strftime(\"%Y%m%d%H%M%S\"),\n",
    "        #'price_span0' : get_price_span0(),\n",
    "        #'price_span2' : get_price_span2(),\n",
    "        #'price_box' : get_price_box(),\n",
    "        'image_link' : get_image(),\n",
    "        'link' : url\n",
    "        }\n",
    "    price_list.append(act_dict)\n",
    "    driver.quit()\n",
    "    sleep(2)\n",
    "price_list"
   ]
  },
  {
   "cell_type": "code",
   "execution_count": 26,
   "metadata": {},
   "outputs": [
    {
     "data": {
      "text/plain": [
       "float"
      ]
     },
     "execution_count": 26,
     "metadata": {},
     "output_type": "execute_result"
    }
   ],
   "source": [
    "type(price_list[0]['price'])"
   ]
  },
  {
   "cell_type": "code",
   "execution_count": 27,
   "metadata": {},
   "outputs": [],
   "source": [
    "#driver = webdriver.Edge(driver_path_edge)\n",
    "#driver.get(r'https://www.coupang.com/vp/products/6366671555?isAddedCart=')\n",
    "#xpath_image = \"/html/body/div[2]/section/div[1]/div/div[1]/div[1]/img\"\n",
    "#image_content = driver.find_element_by_xpath(xpath_image).get_attribute('src')\n",
    "#image_content"
   ]
  },
  {
   "cell_type": "code",
   "execution_count": 28,
   "metadata": {},
   "outputs": [
    {
     "data": {
      "text/plain": [
       "'20220709072651'"
      ]
     },
     "execution_count": 28,
     "metadata": {},
     "output_type": "execute_result"
    }
   ],
   "source": [
    "datetime.utcnow().strftime(\"%Y%m%d%H%M%S\")"
   ]
  },
  {
   "cell_type": "code",
   "execution_count": null,
   "metadata": {},
   "outputs": [],
   "source": []
  }
 ],
 "metadata": {
  "kernelspec": {
   "display_name": "Python 3.9.12 ('base')",
   "language": "python",
   "name": "python3"
  },
  "language_info": {
   "codemirror_mode": {
    "name": "ipython",
    "version": 3
   },
   "file_extension": ".py",
   "mimetype": "text/x-python",
   "name": "python",
   "nbconvert_exporter": "python",
   "pygments_lexer": "ipython3",
   "version": "3.9.12"
  },
  "orig_nbformat": 4,
  "vscode": {
   "interpreter": {
    "hash": "316e860a238c8892b0bc89caf8795812aa72b12f46a5ef18699767900e41eca6"
   }
  }
 },
 "nbformat": 4,
 "nbformat_minor": 2
}
