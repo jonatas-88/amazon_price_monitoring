{
 "cells": [
  {
   "cell_type": "code",
   "execution_count": null,
   "metadata": {},
   "outputs": [],
   "source": []
  },
  {
   "cell_type": "code",
   "execution_count": 16,
   "metadata": {},
   "outputs": [
    {
     "data": {
      "text/plain": [
       "'ko_KR.UTF-8'"
      ]
     },
     "execution_count": 16,
     "metadata": {},
     "output_type": "execute_result"
    }
   ],
   "source": [
    "from selenium import webdriver\n",
    "from datetime import datetime\n",
    "from time import sleep\n",
    "import re\n",
    "import pandas as pd\n",
    "import locale\n",
    "#from locale import atof, setlocale, LC_NUMERIC\n",
    "driver_path_chrome = r'C:\\Users\\jonat\\chromedriver.exe'\n",
    "driver_path_edge = r'C:\\Users\\jonat\\msedgedriver.exe'\n",
    "#setlocale(LC_NUMERIC, 'pt_BR.UTF-8')\n",
    "#locale.setlocale(locale.LC_ALL, \"Portuguese_Brazil.1252\")\n",
    "locale.setlocale(locale.LC_ALL, \"ko_KR.UTF-8\")"
   ]
  },
  {
   "cell_type": "code",
   "execution_count": 17,
   "metadata": {},
   "outputs": [],
   "source": [
    "#driver = webdriver.Edge(driver_path_edge)"
   ]
  },
  {
   "cell_type": "code",
   "execution_count": 18,
   "metadata": {},
   "outputs": [],
   "source": [
    "def get_price():\n",
    "    xpath_price = \"/html/body/div[2]/section/div[1]/div/div[3]/div[5]/div[1]/div/div[2]/span[1]/strong\"\n",
    "    price_content = driver.find_element_by_xpath(xpath_price).text\n",
    "    try:\n",
    "        price_content = price_content.replace('원', '')\n",
    "    except:\n",
    "        price_content = price_content\n",
    "    price = locale.atof(price_content)\n",
    "    return price"
   ]
  },
  {
   "cell_type": "code",
   "execution_count": 19,
   "metadata": {},
   "outputs": [
    {
     "data": {
      "text/plain": [
       "[{'price': 69900.0,\n",
       "  'link': 'https://www.coupang.com/vp/products/6366671555?isAddedCart='},\n",
       " {'price': 296900.0,\n",
       "  'link': 'https://www.coupang.com/vp/products/5056493492?isAddedCart='},\n",
       " {'price': 399000.0,\n",
       "  'link': 'https://www.coupang.com/vp/products/4978269600?isAddedCart='}]"
      ]
     },
     "execution_count": 19,
     "metadata": {},
     "output_type": "execute_result"
    }
   ],
   "source": [
    "url_list = [\n",
    "    r'https://www.coupang.com/vp/products/6366671555?isAddedCart=',\n",
    "    r'https://www.coupang.com/vp/products/5056493492?isAddedCart=',\n",
    "    r'https://www.coupang.com/vp/products/4978269600?isAddedCart='\n",
    "]\n",
    "price_list = []\n",
    "for url in url_list:\n",
    "    driver = webdriver.Edge(driver_path_edge)\n",
    "    driver.get(url)\n",
    "    act_dict = {\n",
    "        #'title' : get_title(),\n",
    "        'price' : get_price(),\n",
    "        #'price_span0' : get_price_span0(),\n",
    "        #'price_span2' : get_price_span2(),\n",
    "        #'price_box' : get_price_box(),\n",
    "        #'image_link' : get_image_link(),\n",
    "        'link' : url\n",
    "        }\n",
    "    price_list.append(act_dict)\n",
    "    driver.quit()\n",
    "    sleep(2)\n",
    "price_list"
   ]
  },
  {
   "cell_type": "code",
   "execution_count": 20,
   "metadata": {},
   "outputs": [
    {
     "ename": "AttributeError",
     "evalue": "'float' object has no attribute 'text'",
     "output_type": "error",
     "traceback": [
      "\u001b[1;31m---------------------------------------------------------------------------\u001b[0m",
      "\u001b[1;31mAttributeError\u001b[0m                            Traceback (most recent call last)",
      "\u001b[1;32md:\\Onedrive\\dev\\python\\amazon_price_monitoring\\price_monitoring.ipynb Célula: 6\u001b[0m in \u001b[0;36m<cell line: 1>\u001b[1;34m()\u001b[0m\n\u001b[1;32m----> <a href='vscode-notebook-cell:/d%3A/Onedrive/dev/python/amazon_price_monitoring/price_monitoring.ipynb#ch0000005?line=0'>1</a>\u001b[0m price_list[\u001b[39m0\u001b[39;49m][\u001b[39m'\u001b[39;49m\u001b[39mprice\u001b[39;49m\u001b[39m'\u001b[39;49m]\u001b[39m.\u001b[39;49mtext\n",
      "\u001b[1;31mAttributeError\u001b[0m: 'float' object has no attribute 'text'"
     ]
    }
   ],
   "source": [
    "price_list[0]['price'].text"
   ]
  },
  {
   "cell_type": "code",
   "execution_count": null,
   "metadata": {},
   "outputs": [],
   "source": []
  }
 ],
 "metadata": {
  "kernelspec": {
   "display_name": "Python 3.9.12 ('base')",
   "language": "python",
   "name": "python3"
  },
  "language_info": {
   "codemirror_mode": {
    "name": "ipython",
    "version": 3
   },
   "file_extension": ".py",
   "mimetype": "text/x-python",
   "name": "python",
   "nbconvert_exporter": "python",
   "pygments_lexer": "ipython3",
   "version": "3.9.12"
  },
  "orig_nbformat": 4,
  "vscode": {
   "interpreter": {
    "hash": "316e860a238c8892b0bc89caf8795812aa72b12f46a5ef18699767900e41eca6"
   }
  }
 },
 "nbformat": 4,
 "nbformat_minor": 2
}
